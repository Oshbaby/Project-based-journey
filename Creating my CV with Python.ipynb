{
 "cells": [
  {
   "cell_type": "code",
   "execution_count": 1,
   "id": "c3ee7521",
   "metadata": {},
   "outputs": [
    {
     "name": "stderr",
     "output_type": "stream",
     "text": [
      "\n",
      "[notice] A new release of pip is available: 25.0 -> 25.0.1\n",
      "[notice] To update, run: python.exe -m pip install --upgrade pip\n"
     ]
    },
    {
     "name": "stdout",
     "output_type": "stream",
     "text": [
      "Requirement already satisfied: fpdf in c:\\users\\osho emmanuel\\anaconda3\\lib\\site-packages (1.7.2)\n"
     ]
    }
   ],
   "source": [
    "! pip install fpdf"
   ]
  },
  {
   "cell_type": "code",
   "execution_count": 2,
   "id": "da3f06e6",
   "metadata": {},
   "outputs": [],
   "source": [
    "from fpdf import FPDF"
   ]
  },
  {
   "cell_type": "code",
   "execution_count": 3,
   "id": "afaf7445",
   "metadata": {},
   "outputs": [],
   "source": [
    "# Create a PDF document\n",
    "pdf = FPDF()\n",
    "pdf.add_page()\n",
    "pdf.set_auto_page_break(auto=True, margin=15)\n",
    "pdf.set_left_margin(10)\n",
    "pdf.set_right_margin(10)"
   ]
  },
  {
   "cell_type": "code",
   "execution_count": 4,
   "id": "5ca6b9be",
   "metadata": {},
   "outputs": [],
   "source": [
    "# Set Title and Header\n",
    "pdf.set_font(\"Arial\", \"B\", 20)\n",
    "pdf.cell(0, 10, \"OSHO EMMANUEL\", ln=True, align='C')\n",
    "pdf.set_font(\"Arial\", \"\", 12)\n",
    "pdf.cell(0, 10, \"Data Analyst | Nigeria | +234-701-940-2173 | emmanuel.osho022@gmail.com\", ln=True, align='C')\n",
    "pdf.cell(0, 10, \"LinkedIn: linkedin.com/in/osho-emmanuel-72a868212 | Portfolio: datascienceportfol.io/oshbaby\", ln=True, align='C')\n",
    "pdf.ln(10)"
   ]
  },
  {
   "cell_type": "code",
   "execution_count": 5,
   "id": "8c056982",
   "metadata": {},
   "outputs": [],
   "source": [
    "# Professional Summary\n",
    "pdf.set_font(\"Arial\", \"B\", 14)\n",
    "pdf.cell(0, 10, \"Professional Summary\", ln=True)\n",
    "pdf.set_font(\"Arial\", \"\", 12)\n",
    "pdf.multi_cell(0, 10, \n",
    "    \"Dedicated Data Analyst with a strong background in statistics and a passion for leveraging data-driven insights to drive business growth. \"\n",
    "    \"Skilled in Python, SQL, Power BI, and Machine Learning, with proven experience in automating data processes and creating impactful visualizations. \"\n",
    "    \"Adept at problem-solving, strategic decision-making, and delivering actionable intelligence to stakeholders.\"\n",
    ")\n",
    "pdf.ln(10)"
   ]
  },
  {
   "cell_type": "code",
   "execution_count": 6,
   "id": "aa21c30e",
   "metadata": {},
   "outputs": [],
   "source": [
    "# Skills\n",
    "pdf.set_font(\"Arial\", \"B\", 14)\n",
    "pdf.cell(0, 10, \"Technical Skills\", ln=True)\n",
    "pdf.set_font(\"Arial\", \"\", 12)\n",
    "pdf.multi_cell(0, 10, \n",
    "    \"Python | R | SQL | Power BI | Tableau | Looker Studio | BigQuery | Stata | Data Cleaning | \"\n",
    "    \"Data Visualization | Data Manipulation | Machine Learning | Statistical Analysis | Predictive Modeling\"\n",
    ")\n",
    "pdf.ln(5)\n",
    "\n",
    "pdf.set_font(\"Arial\", \"B\", 14)\n",
    "pdf.cell(0, 10, \"Professional Skills\", ln=True)\n",
    "pdf.set_font(\"Arial\", \"\", 12)\n",
    "pdf.multi_cell(0, 10, \n",
    "    \"Data Analysis & Visualization | Statistical Modeling | Problem-Solving & Critical Thinking | Project Management | \"\n",
    "    \"Technical Writing & Documentation | Team Leadership & Collaboration\"\n",
    ")\n",
    "pdf.ln(10)"
   ]
  },
  {
   "cell_type": "code",
   "execution_count": 7,
   "id": "970d7504",
   "metadata": {},
   "outputs": [],
   "source": [
    "# Work Experience\n",
    "pdf.set_font(\"Arial\", \"B\", 14)\n",
    "pdf.cell(0, 10, \"Work Experience\", ln=True)\n",
    "pdf.set_font(\"Arial\", \"B\", 12)\n",
    "pdf.cell(0, 10, \"Data Analyst Intern, Mentorness, Gujarat, India | May 2024 - Jun 2024\", ln=True)\n",
    "pdf.set_font(\"Arial\", \"\", 12)\n",
    "pdf.multi_cell(0, 10, \n",
    "    \"- Developed interactive dashboards for the NREGA dataset, enhancing data visualization for stakeholders.\\n\"\n",
    "    \"- Automated data collection using Python, reducing manual effort by 60% and increasing efficiency.\\n\"\n",
    "    \"- Conducted COVID-19 trend analysis using SQL and Power BI, identifying critical patterns and insights.\"\n",
    ")\n",
    "pdf.ln(5)\n",
    "\n",
    "pdf.set_font(\"Arial\", \"B\", 12)\n",
    "pdf.cell(0, 10, \"Data Analyst, PunterBot, Ilorin, Kwara State | Feb 2023 - Mar 2024\", ln=True)\n",
    "pdf.set_font(\"Arial\", \"\", 12)\n",
    "pdf.multi_cell(0, 10, \n",
    "    \"- Spearheaded the development of automated reporting systems, boosting customer growth by 30%.\\n\"\n",
    "    \"- Created interactive dashboards, driving actionable insights and supporting business growth.\\n\"\n",
    "    \"- Collaborated cross-functionally as Junior Project Manager and Marketing Officer, contributing to strategic decision-making.\"\n",
    ")\n",
    "pdf.ln(10)\n",
    "\n"
   ]
  },
  {
   "cell_type": "code",
   "execution_count": 8,
   "id": "c98bdffc",
   "metadata": {},
   "outputs": [],
   "source": [
    "# Leadership Experience\n",
    "pdf.set_font(\"Arial\", \"B\", 14)\n",
    "pdf.cell(0, 10, \"Leadership Experience\", ln=True)\n",
    "pdf.set_font(\"Arial\", \"B\", 12)\n",
    "pdf.cell(0, 10, \"Co-founder, DataKlan, Ilorin, Kwara State | Jan 2023 - Present\", ln=True)\n",
    "pdf.set_font(\"Arial\", \"\", 12)\n",
    "pdf.multi_cell(0, 10, \n",
    "    \"- Led a data analytics education initiative, training over 100 students and professionals.\\n\"\n",
    "    \"- Partnered with the University of Ilorin's Statistical Department to provide mentorship and consulting services.\"\n",
    ")\n",
    "pdf.ln(5)\n",
    "\n",
    "pdf.set_font(\"Arial\", \"B\", 12)\n",
    "pdf.cell(0, 10, \"Chief Administrative Officer, Citizenship and Leadership Training Center, Unilorin Division | Nov 2018 - Sep 2023\", ln=True)\n",
    "pdf.set_font(\"Arial\", \"\", 12)\n",
    "pdf.multi_cell(0, 10, \n",
    "    \"- Formulated policies to enhance operational efficiency and service delivery.\\n\"\n",
    "    \"- Resolved team conflicts, fostering a positive work environment and ensuring compliance with regulations.\"\n",
    ")\n",
    "pdf.ln(10)\n"
   ]
  },
  {
   "cell_type": "code",
   "execution_count": 9,
   "id": "c358e2ab",
   "metadata": {},
   "outputs": [],
   "source": [
    "# Education\n",
    "pdf.set_font(\"Arial\", \"B\", 14)\n",
    "pdf.cell(0, 10, \"Education\", ln=True)\n",
    "pdf.set_font(\"Arial\", \"B\", 12)\n",
    "pdf.cell(0, 10, \"Bachelor of Science in Statistics, University of Ilorin, Kwara State, Nigeria | Oct 2023\", ln=True)\n",
    "pdf.ln(5)\n",
    "pdf.cell(0, 10, \"Diploma in Agile and Project Management, Institute of Management, Technology and Finance, Lisboa, Portugal | Jul 2024\", ln=True)\n",
    "pdf.ln(10)"
   ]
  },
  {
   "cell_type": "code",
   "execution_count": 10,
   "id": "ea48d6c6",
   "metadata": {},
   "outputs": [],
   "source": [
    "# Professional Certificate\n",
    "pdf.set_font(\"Arial\", \"B\", 14)\n",
    "pdf.cell(0, 10, \"Professional Certificate\", ln=True)\n",
    "pdf.set_font(\"Arial\", \"\", 12)\n",
    "pdf.cell(0, 10, \"Career Essentials in Project Management by Microsoft and LinkedIn\", ln=True)"
   ]
  },
  {
   "cell_type": "code",
   "execution_count": 11,
   "id": "bde802ae",
   "metadata": {},
   "outputs": [
    {
     "data": {
      "text/plain": [
       "''"
      ]
     },
     "execution_count": 11,
     "metadata": {},
     "output_type": "execute_result"
    }
   ],
   "source": [
    "# Save the PDF\n",
    "output_file = 'Osho_Emmanuel_CV_Optimized1.pdf'\n",
    "pdf.output(output_file)"
   ]
  },
  {
   "cell_type": "code",
   "execution_count": null,
   "id": "7cda48a0",
   "metadata": {},
   "outputs": [],
   "source": []
  }
 ],
 "metadata": {
  "kernelspec": {
   "display_name": "Python 3",
   "language": "python",
   "name": "python3"
  },
  "language_info": {
   "codemirror_mode": {
    "name": "ipython",
    "version": 3
   },
   "file_extension": ".py",
   "mimetype": "text/x-python",
   "name": "python",
   "nbconvert_exporter": "python",
   "pygments_lexer": "ipython3",
   "version": "3.8.8"
  }
 },
 "nbformat": 4,
 "nbformat_minor": 5
}
