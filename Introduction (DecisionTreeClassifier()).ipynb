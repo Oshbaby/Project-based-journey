{
 "cells": [
  {
   "cell_type": "code",
   "execution_count": 1,
   "id": "06b82842",
   "metadata": {},
   "outputs": [],
   "source": [
    "from sklearn import tree"
   ]
  },
  {
   "cell_type": "code",
   "execution_count": 7,
   "id": "aba8451a",
   "metadata": {},
   "outputs": [],
   "source": [
    "#[height, weight, shoe size]\n",
    "X = [[181, 80,443], [177, 70, 431], [160, 60, 38], [154, 54, 33], \n",
    "      [166,65,40], [190,90,47], [175,64,39], [177,70,40], [156,56,34], \n",
    "      [171,75,421], [181, 85,43]]\n",
    "      \n",
    "Y = ['male', 'female', 'female', 'female', 'male', 'male',\n",
    "    'male', 'female', 'male', 'female', 'male']      \n",
    "     "
   ]
  },
  {
   "cell_type": "code",
   "execution_count": 8,
   "id": "34e266b1",
   "metadata": {},
   "outputs": [],
   "source": [
    "clf = tree.DecisionTreeClassifier()"
   ]
  },
  {
   "cell_type": "code",
   "execution_count": 9,
   "id": "7e73b7ba",
   "metadata": {},
   "outputs": [],
   "source": [
    "clf = clf.fit(X,Y)"
   ]
  },
  {
   "cell_type": "code",
   "execution_count": 11,
   "id": "89b1543f",
   "metadata": {},
   "outputs": [],
   "source": [
    "prediction = clf.predict([[190,70,43]])"
   ]
  },
  {
   "cell_type": "code",
   "execution_count": 12,
   "id": "85c2d697",
   "metadata": {},
   "outputs": [
    {
     "name": "stdout",
     "output_type": "stream",
     "text": [
      "['male']\n"
     ]
    }
   ],
   "source": [
    "print(prediction)"
   ]
  },
  {
   "cell_type": "code",
   "execution_count": null,
   "id": "43b277bc",
   "metadata": {},
   "outputs": [],
   "source": []
  }
 ],
 "metadata": {
  "kernelspec": {
   "display_name": "Python 3",
   "language": "python",
   "name": "python3"
  },
  "language_info": {
   "codemirror_mode": {
    "name": "ipython",
    "version": 3
   },
   "file_extension": ".py",
   "mimetype": "text/x-python",
   "name": "python",
   "nbconvert_exporter": "python",
   "pygments_lexer": "ipython3",
   "version": "3.8.8"
  }
 },
 "nbformat": 4,
 "nbformat_minor": 5
}
